{
 "cells": [
  {
   "cell_type": "code",
   "execution_count": null,
   "metadata": {},
   "outputs": [],
   "source": [
    "%pip install nutter"
   ]
  },
  {
   "cell_type": "code",
   "execution_count": null,
   "metadata": {},
   "outputs": [],
   "source": [
    "import sys\n",
    "from bundlesDevOpsDemo import main\n",
    "from runtime.nutterfixture import NutterFixture, tag\n",
    "from pyspark.sql import SparkSession\n",
    "\n",
    "class TestMainNotebook(NutterFixture):\n",
    "    def __init__(self):\n",
    "        super().__init__()\n",
    "        self.spark = SparkSession.builder.master(\"local\").appName(\"Test\").getOrCreate()\n",
    "        self.df = None\n",
    "\n",
    "    def run_test_get_taxis(self):\n",
    "        self.df = main.get_taxis(self.spark)\n",
    "\n",
    "    def assertion_test_get_taxis(self):\n",
    "        print(\"The df count is:\", self.df.count())\n",
    "        #assertion example sample\n",
    "        assert self.df is not None, \"Dataframe should not be None\"\n",
    "        assert self.df.count() > 0, \"Dataframe should not be empty\"\n",
    "\n",
    "# Define the fixture\n",
    "notebook_fixture = TestMainNotebook()\n",
    "\n",
    "# Run the test\n",
    "test_results = notebook_fixture.execute_tests()\n",
    "\n",
    "# Print the test results\n",
    "print(test_results.to_string())\n",
    "\n",
    "# \n",
    "if \"PASSING TESTS\" not in test_results.to_string():\n",
    "    print(\"Test Failed\")\n",
    "    sys.exit(1)\n",
    "\n",
    "print(\"All tests passed successfully.\")"
   ]
  }
 ],
 "metadata": {
  "language_info": {
   "name": "python"
  }
 },
 "nbformat": 4,
 "nbformat_minor": 2
}
